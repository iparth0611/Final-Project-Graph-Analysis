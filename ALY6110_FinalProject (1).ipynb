{
  "nbformat": 4,
  "nbformat_minor": 0,
  "metadata": {
    "colab": {
      "provenance": []
    },
    "kernelspec": {
      "name": "python3",
      "display_name": "Python 3"
    },
    "language_info": {
      "name": "python"
    }
  },
  "cells": [
    {
      "cell_type": "code",
      "execution_count": null,
      "metadata": {
        "id": "Jr7WqPeG_7OO"
      },
      "outputs": [],
      "source": [
        "# install java\n",
        "!apt-get install openjdk-8-jdk-headless -qq > /dev/null\n",
        "\n",
        "# install spark (change the version number if needed)\n",
        "!wget -q https://archive.apache.org/dist/spark/spark-3.0.0/spark-3.0.0-bin-hadoop3.2.tgz\n",
        "\n",
        "# unzip the spark file to the current folder\n",
        "!tar xf spark-3.0.0-bin-hadoop3.2.tgz\n",
        "\n",
        "# set your spark folder to your system path environment. \n",
        "import os\n",
        "os.environ[\"JAVA_HOME\"] = \"/usr/lib/jvm/java-8-openjdk-amd64\"\n",
        "os.environ[\"SPARK_HOME\"] = \"/content/spark-3.0.0-bin-hadoop3.2\"\n",
        "\n",
        "\n",
        "# install findspark using pip\n",
        "!pip install -q findspark"
      ]
    },
    {
      "cell_type": "code",
      "source": [
        "from google.colab import files\n",
        "files.upload()"
      ],
      "metadata": {
        "id": "CFRtYbR0FPG-"
      },
      "execution_count": null,
      "outputs": []
    },
    {
      "cell_type": "code",
      "source": [
        "import findspark\n",
        "findspark.init()\n",
        "from pyspark.sql import SparkSession\n",
        "spark = SparkSession.builder.master(\"local[*]\").getOrCreate()"
      ],
      "metadata": {
        "id": "OZ5oEtsSGhWs"
      },
      "execution_count": null,
      "outputs": []
    },
    {
      "cell_type": "code",
      "source": [
        "df=spark.sql(\"show databases\")\n",
        "df.show()"
      ],
      "metadata": {
        "colab": {
          "base_uri": "https://localhost:8080/"
        },
        "id": "xfJ6LPHLGkF9",
        "outputId": "c3ea2dd4-2da8-4f1d-8a7a-002527518f1a"
      },
      "execution_count": null,
      "outputs": [
        {
          "output_type": "stream",
          "name": "stdout",
          "text": [
            "+---------+\n",
            "|namespace|\n",
            "+---------+\n",
            "|  default|\n",
            "+---------+\n",
            "\n"
          ]
        }
      ]
    },
    {
      "cell_type": "code",
      "source": [
        "data = spark.read.csv('Electric_Vehicle_Population_Data.csv',inferSchema=True, header=True)"
      ],
      "metadata": {
        "id": "AEavyffxGnki"
      },
      "execution_count": null,
      "outputs": []
    },
    {
      "cell_type": "code",
      "source": [
        "import matplotlib.pyplot as plt\n",
        "import pandas"
      ],
      "metadata": {
        "id": "IZD8Ccv-HLZM"
      },
      "execution_count": null,
      "outputs": []
    },
    {
      "cell_type": "code",
      "source": [
        "import seaborn as sns\n",
        "dfplot = data.groupby(\"Make\").avg(\"Electric Range\")\n",
        "x=dfplot.toPandas()[\"Make\"].values.tolist()\n",
        "y=dfplot.toPandas()[\"avg(Electric Range)\"].values.tolist()\n",
        "sns.barplot(y,x, color='steelblue', label=\"Electric Vehicle Range\")"
      ],
      "metadata": {
        "colab": {
          "base_uri": "https://localhost:8080/",
          "height": 338
        },
        "id": "Yr0ewQFsS4k0",
        "outputId": "ce2d4f4c-4690-4bb7-a486-ebe091c3baa0"
      },
      "execution_count": null,
      "outputs": [
        {
          "output_type": "stream",
          "name": "stderr",
          "text": [
            "/usr/local/lib/python3.8/dist-packages/seaborn/_decorators.py:36: FutureWarning: Pass the following variables as keyword args: x, y. From version 0.12, the only valid positional argument will be `data`, and passing other arguments without an explicit keyword will result in an error or misinterpretation.\n",
            "  warnings.warn(\n"
          ]
        },
        {
          "output_type": "execute_result",
          "data": {
            "text/plain": [
              "<matplotlib.axes._subplots.AxesSubplot at 0x7fbe28223cd0>"
            ]
          },
          "metadata": {},
          "execution_count": 10
        },
        {
          "output_type": "display_data",
          "data": {
            "text/plain": [
              "<Figure size 432x288 with 1 Axes>"
            ],
            "image/png": "[encoded data removed]"
          },
          "metadata": {
            "needs_background": "light"
          }
        }
      ]
    },
    {
      "cell_type": "code",
      "source": [
        "from pyspark.sql.types import IntegerType\n",
        "data = data.withColumn(\"Model Year\", data[\"Model Year\"].cast(IntegerType()))\n",
        "data = data.withColumn(\"Electric Vehicle Type\", data[\"Electric Vehicle Type\"].cast(IntegerType()))"
      ],
      "metadata": {
        "id": "vzHtMzLURtOA"
      },
      "execution_count": null,
      "outputs": []
    },
    {
      "cell_type": "code",
      "source": [
        "import findspark\n",
        "findspark.init()\n",
        "import pyspark # only run after findspark.init()\n",
        "from pyspark.sql import SparkSession\n",
        "from pyspark.sql import SQLContext\n",
        "import seaborn as sns\n",
        "import matplotlib.pyplot as plt\n",
        "spark = SparkSession.builder.getOrCreate()"
      ],
      "metadata": {
        "id": "5Y2YmcB7x6h1"
      },
      "execution_count": null,
      "outputs": []
    },
    {
      "cell_type": "code",
      "source": [
        "#Creating Table\n",
        "data.registerTempTable('car')\n",
        "sqlContext = SQLContext(spark)\n",
        "#Running Query\n",
        "df1 = sqlContext.sql(\"SELECT * from car\").toPandas()"
      ],
      "metadata": {
        "id": "LckNLm3ByBK0"
      },
      "execution_count": null,
      "outputs": []
    },
    {
      "cell_type": "code",
      "source": [
        "df1.corr().style.background_gradient(cmap='coolwarm').set_precision(2)"
      ],
      "metadata": {
        "colab": {
          "base_uri": "https://localhost:8080/",
          "height": 404
        },
        "id": "8x4_cp9cyKke",
        "outputId": "cfa3ec6b-4389-4d54-dfc7-57aedd07dcea"
      },
      "execution_count": null,
      "outputs": [
        {
          "output_type": "stream",
          "name": "stderr",
          "text": [
            "<ipython-input-15-2e6bfec4ae5d>:1: FutureWarning: this method is deprecated in favour of `Styler.format(precision=..)`\n",
            "  df1.corr().style.background_gradient(cmap='coolwarm').set_precision(2)\n",
            "/usr/local/lib/python3.8/dist-packages/pandas/io/formats/style.py:2813: RuntimeWarning: All-NaN slice encountered\n",
            "  smin = np.nanmin(gmap) if vmin is None else vmin\n",
            "/usr/local/lib/python3.8/dist-packages/pandas/io/formats/style.py:2814: RuntimeWarning: All-NaN slice encountered\n",
            "  smax = np.nanmax(gmap) if vmax is None else vmax\n"
          ]
        },
        {
          "output_type": "execute_result",
          "data": {
            "text/plain": [
              "<pandas.io.formats.style.Styler at 0x7fbe27bb3ca0>"
            ],
            "text/html": [
              "<style type=\"text/css\">\n",
              "#T_f5d79_row0_col0, #T_f5d79_row1_col1, #T_f5d79_row3_col3, #T_f5d79_row4_col4, #T_f5d79_row5_col5, #T_f5d79_row6_col6, #T_f5d79_row7_col7 {\n",
              "  background-color: #b40426;\n",
              "  color: #f1f1f1;\n",
              "}\n",
              "#T_f5d79_row0_col1, #T_f5d79_row0_col4 {\n",
              "  background-color: #779af7;\n",
              "  color: #f1f1f1;\n",
              "}\n",
              "#T_f5d79_row0_col2, #T_f5d79_row1_col2, #T_f5d79_row2_col0, #T_f5d79_row2_col1, #T_f5d79_row2_col2, #T_f5d79_row2_col3, #T_f5d79_row2_col4, #T_f5d79_row2_col5, #T_f5d79_row2_col6, #T_f5d79_row2_col7, #T_f5d79_row3_col2, #T_f5d79_row4_col2, #T_f5d79_row5_col2, #T_f5d79_row6_col2, #T_f5d79_row7_col2 {\n",
              "  background-color: #000000;\n",
              "  color: #f1f1f1;\n",
              "}\n",
              "#T_f5d79_row0_col3, #T_f5d79_row5_col4, #T_f5d79_row6_col4, #T_f5d79_row7_col1, #T_f5d79_row7_col3 {\n",
              "  background-color: #799cf8;\n",
              "  color: #f1f1f1;\n",
              "}\n",
              "#T_f5d79_row0_col5, #T_f5d79_row1_col3, #T_f5d79_row1_col4, #T_f5d79_row1_col6, #T_f5d79_row3_col1, #T_f5d79_row5_col0, #T_f5d79_row5_col7 {\n",
              "  background-color: #3b4cc0;\n",
              "  color: #f1f1f1;\n",
              "}\n",
              "#T_f5d79_row0_col6, #T_f5d79_row7_col6 {\n",
              "  background-color: #5470de;\n",
              "  color: #f1f1f1;\n",
              "}\n",
              "#T_f5d79_row0_col7 {\n",
              "  background-color: #e9d5cb;\n",
              "  color: #000000;\n",
              "}\n",
              "#T_f5d79_row1_col0, #T_f5d79_row6_col5 {\n",
              "  background-color: #9fbfff;\n",
              "  color: #000000;\n",
              "}\n",
              "#T_f5d79_row1_col5, #T_f5d79_row4_col5 {\n",
              "  background-color: #a2c1ff;\n",
              "  color: #000000;\n",
              "}\n",
              "#T_f5d79_row1_col7, #T_f5d79_row3_col6, #T_f5d79_row6_col7 {\n",
              "  background-color: #5a78e4;\n",
              "  color: #f1f1f1;\n",
              "}\n",
              "#T_f5d79_row3_col0, #T_f5d79_row4_col0, #T_f5d79_row6_col0 {\n",
              "  background-color: #a1c0ff;\n",
              "  color: #000000;\n",
              "}\n",
              "#T_f5d79_row3_col4 {\n",
              "  background-color: #8caffe;\n",
              "  color: #000000;\n",
              "}\n",
              "#T_f5d79_row3_col5 {\n",
              "  background-color: #a9c6fd;\n",
              "  color: #000000;\n",
              "}\n",
              "#T_f5d79_row3_col7, #T_f5d79_row4_col7 {\n",
              "  background-color: #5977e3;\n",
              "  color: #f1f1f1;\n",
              "}\n",
              "#T_f5d79_row4_col1 {\n",
              "  background-color: #3c4ec2;\n",
              "  color: #f1f1f1;\n",
              "}\n",
              "#T_f5d79_row4_col3 {\n",
              "  background-color: #8db0fe;\n",
              "  color: #000000;\n",
              "}\n",
              "#T_f5d79_row4_col6 {\n",
              "  background-color: #5673e0;\n",
              "  color: #f1f1f1;\n",
              "}\n",
              "#T_f5d79_row5_col1 {\n",
              "  background-color: #7a9df8;\n",
              "  color: #f1f1f1;\n",
              "}\n",
              "#T_f5d79_row5_col3 {\n",
              "  background-color: #82a6fb;\n",
              "  color: #f1f1f1;\n",
              "}\n",
              "#T_f5d79_row5_col6 {\n",
              "  background-color: #536edd;\n",
              "  color: #f1f1f1;\n",
              "}\n",
              "#T_f5d79_row6_col1 {\n",
              "  background-color: #5f7fe8;\n",
              "  color: #f1f1f1;\n",
              "}\n",
              "#T_f5d79_row6_col3 {\n",
              "  background-color: #7ea1fa;\n",
              "  color: #f1f1f1;\n",
              "}\n",
              "#T_f5d79_row7_col0 {\n",
              "  background-color: #f6bda2;\n",
              "  color: #000000;\n",
              "}\n",
              "#T_f5d79_row7_col4 {\n",
              "  background-color: #7699f6;\n",
              "  color: #f1f1f1;\n",
              "}\n",
              "#T_f5d79_row7_col5 {\n",
              "  background-color: #85a8fc;\n",
              "  color: #f1f1f1;\n",
              "}\n",
              "</style>\n",
              "<table id=\"T_f5d79_\" class=\"dataframe\">\n",
              "  <thead>\n",
              "    <tr>\n",
              "      <th class=\"blank level0\" >&nbsp;</th>\n",
              "      <th class=\"col_heading level0 col0\" >Postal Code</th>\n",
              "      <th class=\"col_heading level0 col1\" >Model Year</th>\n",
              "      <th class=\"col_heading level0 col2\" >Electric Vehicle Type</th>\n",
              "      <th class=\"col_heading level0 col3\" >Electric Range</th>\n",
              "      <th class=\"col_heading level0 col4\" >Base MSRP</th>\n",
              "      <th class=\"col_heading level0 col5\" >Legislative District</th>\n",
              "      <th class=\"col_heading level0 col6\" >DOL Vehicle ID</th>\n",
              "      <th class=\"col_heading level0 col7\" >2020 Census Tract</th>\n",
              "    </tr>\n",
              "  </thead>\n",
              "  <tbody>\n",
              "    <tr>\n",
              "      <th id=\"T_f5d79_level0_row0\" class=\"row_heading level0 row0\" >Postal Code</th>\n",
              "      <td id=\"T_f5d79_row0_col0\" class=\"data row0 col0\" >1.00</td>\n",
              "      <td id=\"T_f5d79_row0_col1\" class=\"data row0 col1\" >-0.00</td>\n",
              "      <td id=\"T_f5d79_row0_col2\" class=\"data row0 col2\" >nan</td>\n",
              "      <td id=\"T_f5d79_row0_col3\" class=\"data row0 col3\" >0.00</td>\n",
              "      <td id=\"T_f5d79_row0_col4\" class=\"data row0 col4\" >0.00</td>\n",
              "      <td id=\"T_f5d79_row0_col5\" class=\"data row0 col5\" >-0.44</td>\n",
              "      <td id=\"T_f5d79_row0_col6\" class=\"data row0 col6\" >0.00</td>\n",
              "      <td id=\"T_f5d79_row0_col7\" class=\"data row0 col7\" >0.50</td>\n",
              "    </tr>\n",
              "    <tr>\n",
              "      <th id=\"T_f5d79_level0_row1\" class=\"row_heading level0 row1\" >Model Year</th>\n",
              "      <td id=\"T_f5d79_row1_col0\" class=\"data row1 col0\" >-0.00</td>\n",
              "      <td id=\"T_f5d79_row1_col1\" class=\"data row1 col1\" >1.00</td>\n",
              "      <td id=\"T_f5d79_row1_col2\" class=\"data row1 col2\" >nan</td>\n",
              "      <td id=\"T_f5d79_row1_col3\" class=\"data row1 col3\" >-0.24</td>\n",
              "      <td id=\"T_f5d79_row1_col4\" class=\"data row1 col4\" >-0.23</td>\n",
              "      <td id=\"T_f5d79_row1_col5\" class=\"data row1 col5\" >0.01</td>\n",
              "      <td id=\"T_f5d79_row1_col6\" class=\"data row1 col6\" >-0.09</td>\n",
              "      <td id=\"T_f5d79_row1_col7\" class=\"data row1 col7\" >0.00</td>\n",
              "    </tr>\n",
              "    <tr>\n",
              "      <th id=\"T_f5d79_level0_row2\" class=\"row_heading level0 row2\" >Electric Vehicle Type</th>\n",
              "      <td id=\"T_f5d79_row2_col0\" class=\"data row2 col0\" >nan</td>\n",
              "      <td id=\"T_f5d79_row2_col1\" class=\"data row2 col1\" >nan</td>\n",
              "      <td id=\"T_f5d79_row2_col2\" class=\"data row2 col2\" >nan</td>\n",
              "      <td id=\"T_f5d79_row2_col3\" class=\"data row2 col3\" >nan</td>\n",
              "      <td id=\"T_f5d79_row2_col4\" class=\"data row2 col4\" >nan</td>\n",
              "      <td id=\"T_f5d79_row2_col5\" class=\"data row2 col5\" >nan</td>\n",
              "      <td id=\"T_f5d79_row2_col6\" class=\"data row2 col6\" >nan</td>\n",
              "      <td id=\"T_f5d79_row2_col7\" class=\"data row2 col7\" >nan</td>\n",
              "    </tr>\n",
              "    <tr>\n",
              "      <th id=\"T_f5d79_level0_row3\" class=\"row_heading level0 row3\" >Electric Range</th>\n",
              "      <td id=\"T_f5d79_row3_col0\" class=\"data row3 col0\" >0.00</td>\n",
              "      <td id=\"T_f5d79_row3_col1\" class=\"data row3 col1\" >-0.24</td>\n",
              "      <td id=\"T_f5d79_row3_col2\" class=\"data row3 col2\" >nan</td>\n",
              "      <td id=\"T_f5d79_row3_col3\" class=\"data row3 col3\" >1.00</td>\n",
              "      <td id=\"T_f5d79_row3_col4\" class=\"data row3 col4\" >0.07</td>\n",
              "      <td id=\"T_f5d79_row3_col5\" class=\"data row3 col5\" >0.03</td>\n",
              "      <td id=\"T_f5d79_row3_col6\" class=\"data row3 col6\" >0.02</td>\n",
              "      <td id=\"T_f5d79_row3_col7\" class=\"data row3 col7\" >0.00</td>\n",
              "    </tr>\n",
              "    <tr>\n",
              "      <th id=\"T_f5d79_level0_row4\" class=\"row_heading level0 row4\" >Base MSRP</th>\n",
              "      <td id=\"T_f5d79_row4_col0\" class=\"data row4 col0\" >0.00</td>\n",
              "      <td id=\"T_f5d79_row4_col1\" class=\"data row4 col1\" >-0.23</td>\n",
              "      <td id=\"T_f5d79_row4_col2\" class=\"data row4 col2\" >nan</td>\n",
              "      <td id=\"T_f5d79_row4_col3\" class=\"data row4 col3\" >0.07</td>\n",
              "      <td id=\"T_f5d79_row4_col4\" class=\"data row4 col4\" >1.00</td>\n",
              "      <td id=\"T_f5d79_row4_col5\" class=\"data row4 col5\" >0.01</td>\n",
              "      <td id=\"T_f5d79_row4_col6\" class=\"data row4 col6\" >0.01</td>\n",
              "      <td id=\"T_f5d79_row4_col7\" class=\"data row4 col7\" >-0.00</td>\n",
              "    </tr>\n",
              "    <tr>\n",
              "      <th id=\"T_f5d79_level0_row5\" class=\"row_heading level0 row5\" >Legislative District</th>\n",
              "      <td id=\"T_f5d79_row5_col0\" class=\"data row5 col0\" >-0.44</td>\n",
              "      <td id=\"T_f5d79_row5_col1\" class=\"data row5 col1\" >0.01</td>\n",
              "      <td id=\"T_f5d79_row5_col2\" class=\"data row5 col2\" >nan</td>\n",
              "      <td id=\"T_f5d79_row5_col3\" class=\"data row5 col3\" >0.03</td>\n",
              "      <td id=\"T_f5d79_row5_col4\" class=\"data row5 col4\" >0.01</td>\n",
              "      <td id=\"T_f5d79_row5_col5\" class=\"data row5 col5\" >1.00</td>\n",
              "      <td id=\"T_f5d79_row5_col6\" class=\"data row5 col6\" >-0.00</td>\n",
              "      <td id=\"T_f5d79_row5_col7\" class=\"data row5 col7\" >-0.11</td>\n",
              "    </tr>\n",
              "    <tr>\n",
              "      <th id=\"T_f5d79_level0_row6\" class=\"row_heading level0 row6\" >DOL Vehicle ID</th>\n",
              "      <td id=\"T_f5d79_row6_col0\" class=\"data row6 col0\" >0.00</td>\n",
              "      <td id=\"T_f5d79_row6_col1\" class=\"data row6 col1\" >-0.09</td>\n",
              "      <td id=\"T_f5d79_row6_col2\" class=\"data row6 col2\" >nan</td>\n",
              "      <td id=\"T_f5d79_row6_col3\" class=\"data row6 col3\" >0.02</td>\n",
              "      <td id=\"T_f5d79_row6_col4\" class=\"data row6 col4\" >0.01</td>\n",
              "      <td id=\"T_f5d79_row6_col5\" class=\"data row6 col5\" >-0.00</td>\n",
              "      <td id=\"T_f5d79_row6_col6\" class=\"data row6 col6\" >1.00</td>\n",
              "      <td id=\"T_f5d79_row6_col7\" class=\"data row6 col7\" >0.00</td>\n",
              "    </tr>\n",
              "    <tr>\n",
              "      <th id=\"T_f5d79_level0_row7\" class=\"row_heading level0 row7\" >2020 Census Tract</th>\n",
              "      <td id=\"T_f5d79_row7_col0\" class=\"data row7 col0\" >0.50</td>\n",
              "      <td id=\"T_f5d79_row7_col1\" class=\"data row7 col1\" >0.00</td>\n",
              "      <td id=\"T_f5d79_row7_col2\" class=\"data row7 col2\" >nan</td>\n",
              "      <td id=\"T_f5d79_row7_col3\" class=\"data row7 col3\" >0.00</td>\n",
              "      <td id=\"T_f5d79_row7_col4\" class=\"data row7 col4\" >-0.00</td>\n",
              "      <td id=\"T_f5d79_row7_col5\" class=\"data row7 col5\" >-0.11</td>\n",
              "      <td id=\"T_f5d79_row7_col6\" class=\"data row7 col6\" >0.00</td>\n",
              "      <td id=\"T_f5d79_row7_col7\" class=\"data row7 col7\" >1.00</td>\n",
              "    </tr>\n",
              "  </tbody>\n",
              "</table>\n"
            ]
          },
          "metadata": {},
          "execution_count": 15
        }
      ]
    },
    {
      "cell_type": "code",
      "source": [
        "!pip install handyspark"
      ],
      "metadata": {
        "colab": {
          "base_uri": "https://localhost:8080/",
          "height": 658
        },
        "id": "DVKfgCaN8dKT",
        "outputId": "e224f2af-2c6a-49fb-aa8f-7dffb0abd7ba"
      },
      "execution_count": null,
      "outputs": [
        {
          "output_type": "stream",
          "name": "stdout",
          "text": [
            "Looking in indexes: https://pypi.org/simple, https://us-python.pkg.dev/colab-wheels/public/simple/\n",
            "Collecting handyspark\n",
            "  Downloading handyspark-0.2.2a1-py2.py3-none-any.whl (39 kB)\n",
            "Requirement already satisfied: scipy in /usr/local/lib/python3.8/dist-packages (from handyspark) (1.7.3)\n",
            "Requirement already satisfied: numpy in /usr/local/lib/python3.8/dist-packages (from handyspark) (1.21.6)\n",
            "Requirement already satisfied: scikit-learn in /usr/local/lib/python3.8/dist-packages (from handyspark) (1.0.2)\n",
            "Requirement already satisfied: findspark in /usr/local/lib/python3.8/dist-packages (from handyspark) (2.0.1)\n",
            "Requirement already satisfied: pyarrow in /usr/local/lib/python3.8/dist-packages (from handyspark) (9.0.0)\n",
            "Requirement already satisfied: seaborn in /usr/local/lib/python3.8/dist-packages (from handyspark) (0.11.2)\n",
            "Requirement already satisfied: matplotlib in /usr/local/lib/python3.8/dist-packages (from handyspark) (3.2.2)\n",
            "Requirement already satisfied: pandas in /usr/local/lib/python3.8/dist-packages (from handyspark) (1.3.5)\n",
            "Collecting pyspark\n",
            "  Downloading pyspark-3.3.1.tar.gz (281.4 MB)\n",
            "\u001b[K     |████████████████████████████████| 281.4 MB 44 kB/s \n",
            "\u001b[?25hRequirement already satisfied: cycler>=0.10 in /usr/local/lib/python3.8/dist-packages (from matplotlib->handyspark) (0.11.0)\n",
            "Requirement already satisfied: python-dateutil>=2.1 in /usr/local/lib/python3.8/dist-packages (from matplotlib->handyspark) (2.8.2)\n",
            "Requirement already satisfied: kiwisolver>=1.0.1 in /usr/local/lib/python3.8/dist-packages (from matplotlib->handyspark) (1.4.4)\n",
            "Requirement already satisfied: pyparsing!=2.0.4,!=2.1.2,!=2.1.6,>=2.0.1 in /usr/local/lib/python3.8/dist-packages (from matplotlib->handyspark) (3.0.9)\n",
            "Requirement already satisfied: six>=1.5 in /usr/local/lib/python3.8/dist-packages (from python-dateutil>=2.1->matplotlib->handyspark) (1.15.0)\n",
            "Requirement already satisfied: pytz>=2017.3 in /usr/local/lib/python3.8/dist-packages (from pandas->handyspark) (2022.6)\n",
            "Collecting py4j==0.10.9.5\n",
            "  Downloading py4j-0.10.9.5-py2.py3-none-any.whl (199 kB)\n",
            "\u001b[K     |████████████████████████████████| 199 kB 57.3 MB/s \n",
            "\u001b[?25hRequirement already satisfied: threadpoolctl>=2.0.0 in /usr/local/lib/python3.8/dist-packages (from scikit-learn->handyspark) (3.1.0)\n",
            "Requirement already satisfied: joblib>=0.11 in /usr/local/lib/python3.8/dist-packages (from scikit-learn->handyspark) (1.2.0)\n",
            "Building wheels for collected packages: pyspark\n",
            "  Building wheel for pyspark (setup.py) ... \u001b[?25l\u001b[?25hdone\n",
            "  Created wheel for pyspark: filename=pyspark-3.3.1-py2.py3-none-any.whl size=281845512 sha256=d41e773016f4fa596a85194453c7380d6fdee8c8a6fdf5e68ecb8b374abcf529\n",
            "  Stored in directory: /root/.cache/pip/wheels/43/dc/11/ec201cd671da62fa9c5cc77078235e40722170ceba231d7598\n",
            "Successfully built pyspark\n",
            "Installing collected packages: py4j, pyspark, handyspark\n",
            "Successfully installed handyspark-0.2.2a1 py4j-0.10.9.5 pyspark-3.3.1\n"
          ]
        },
        {
          "output_type": "display_data",
          "data": {
            "application/vnd.colab-display-data+json": {
              "pip_warning": {
                "packages": [
                  "py4j",
                  "pyspark"
                ]
              }
            }
          },
          "metadata": {}
        }
      ]
    },
    {
      "cell_type": "code",
      "source": [
        "from handyspark import *"
      ],
      "metadata": {
        "id": "CiPumB-q2NH6"
      },
      "execution_count": null,
      "outputs": []
    },
    {
      "cell_type": "code",
      "source": [
        "# Converting to handyspark CarData\n",
        "hdf = data.toHandy()\n",
        "hdf.show()"
      ],
      "metadata": {
        "colab": {
          "base_uri": "https://localhost:8080/"
        },
        "id": "8_r_nOxD4I--",
        "outputId": "a1a3f771-88ee-4c1f-8a17-af1fd3ca8bc4"
      },
      "execution_count": null,
      "outputs": [
        {
          "output_type": "stream",
          "name": "stdout",
          "text": [
            "+----------+---------+----------+-----+-----------+----------+---------+--------------+---------------------+-------------------------------------------------+--------------+---------+--------------------+--------------+--------------------+--------------------+-----------------+\n",
            "|VIN (1-10)|   County|      City|State|Postal Code|Model Year|     Make|         Model|Electric Vehicle Type|Clean Alternative Fuel Vehicle (CAFV) Eligibility|Electric Range|Base MSRP|Legislative District|DOL Vehicle ID|    Vehicle Location|    Electric Utility|2020 Census Tract|\n",
            "+----------+---------+----------+-----+-----------+----------+---------+--------------+---------------------+-------------------------------------------------+--------------+---------+--------------------+--------------+--------------------+--------------------+-----------------+\n",
            "|1N4BZ0CP9G|Snohomish| Arlington|   WA|      98223|      2016|   NISSAN|          LEAF|                 null|                             Clean Alternative...|            84|        0|                  39|     238236288|                null|PUGET SOUND ENERG...|      53061052701|\n",
            "|1N4AZ0CP5G|     King|   Seattle|   WA|      98118|      2016|   NISSAN|          LEAF|                 null|                             Clean Alternative...|            84|        0|                  37|     182735367|                null|PUGET SOUND ENERG...|      53033011102|\n",
            "|1N4BZ1CP7K| Thurston|   Olympia|   WA|      98502|      2019|   NISSAN|          LEAF|                 null|                             Clean Alternative...|           150|        0|                  22|     142814556|POINT (-102.71236...|                null|      53067012002|\n",
            "|5YJ3E1EBXK|Frederick| Frederick|   MD|      21704|      2019|    TESLA|       MODEL 3|                 null|                             Clean Alternative...|           220|        0|                null|     114252337|POINT (-77.368491...|                null|      24021752205|\n",
            "|5YJ3E1EAXL|     King|  Bellevue|   WA|      98008|      2020|    TESLA|       MODEL 3|                 null|                             Clean Alternative...|           266|        0|                  48|       2075510|                null|PUGET SOUND ENERG...|      53033023100|\n",
            "|5YJ3E1EA5J|     King|   Seattle|   WA|      98118|      2018|    TESLA|       MODEL 3|                 null|                             Clean Alternative...|           215|        0|                  37|     192386232|                null|CITY OF SEATTLE -...|      53033010301|\n",
            "|5YJSA1H28F|     King|  Bellevue|   WA|      98008|      2015|    TESLA|       MODEL S|                 null|                             Clean Alternative...|           208|        0|                  48|     213056665|                null|PUGET SOUND ENERG...|      53033023300|\n",
            "|KNDCC3LG0K|     King|   Seattle|   WA|      98118|      2019|      KIA|          NIRO|                 null|                             Clean Alternative...|           239|        0|                  37|       3486731|                null|CITY OF SEATTLE -...|      53033010102|\n",
            "|5YJSA1E29K|     King|   Seattle|   WA|      98118|      2019|    TESLA|       MODEL S|                 null|                             Clean Alternative...|           270|        0|                  37|     326794177|                null|CITY OF SEATTLE -...|      53033010102|\n",
            "|5YJ3E1EB2J|     King|  Bellevue|   WA|      98008|      2018|    TESLA|       MODEL 3|                 null|                             Clean Alternative...|           215|        0|                  48|     474679803|                null|PUGET SOUND ENERG...|      53033023000|\n",
            "|3FA6P0SUXG|   Orange|Buena Park|   CA|      90620|      2016|     FORD|        FUSION|                 null|                             Not eligible due ...|            19|        0|                null|     111821167|                null|                null|       6059086801|\n",
            "|5YJ3E1EB5J|   Skagit| Anacortes|   WA|      98221|      2018|    TESLA|       MODEL 3|                 null|                             Clean Alternative...|           215|        0|                  40|     333075459|POINT (-122.62841...|                null|      53057950100|\n",
            "|3FMTK3RM7M|   Sumter|    Sumter|   SC|      29154|      2021|     FORD|MUSTANG MACH-E|                 null|                             Eligibility unkno...|             0|        0|                null|     212029016|                null|                null|      45085000300|\n",
            "|1N4AZ1CP1J|     King|  Bellevue|   WA|      98008|      2018|   NISSAN|          LEAF|                 null|                             Clean Alternative...|           151|        0|                  48|     474800567|                null|PUGET SOUND ENERG...|      53033022901|\n",
            "|KL8CK6S08F|  Spokane|   Spokane|   WA|      99207|      2015|CHEVROLET|         SPARK|                 null|                             Clean Alternative...|            82|        0|                   3|     102617623|                null|MODERN ELECTRIC W...|      53063001500|\n",
            "|WBY8P2C52K|     King|   Seattle|   WA|      98118|      2019|      BMW|            I3|                 null|                             Clean Alternative...|           153|        0|                  37|     172141770|                null|CITY OF SEATTLE -...|      53033010102|\n",
            "|1N4BZ0CP4G|     King|   Seattle|   WA|      98118|      2016|   NISSAN|          LEAF|                 null|                             Clean Alternative...|            84|        0|                  37|     205923532|                null|PUGET SOUND ENERG...|      53033011102|\n",
            "|1G1FX6S08H|Snohomish| Arlington|   WA|      98223|      2017|CHEVROLET|       BOLT EV|                 null|                             Clean Alternative...|           238|        0|                  39|     138486715|                null|PUGET SOUND ENERG...|      53061053507|\n",
            "|JN1AZ0CP8C|     King|  Bellevue|   WA|      98008|      2012|   NISSAN|          LEAF|                 null|                             Clean Alternative...|            73|        0|                  48|     123166998|                null|PUGET SOUND ENERG...|      53033022901|\n",
            "|5YJ3E1EB9J|     King|  Bellevue|   WA|      98008|      2018|    TESLA|       MODEL 3|                 null|                             Clean Alternative...|           215|        0|                  48|     475500630|                null|PUGET SOUND ENERG...|      53033023202|\n",
            "+----------+---------+----------+-----+-----------+----------+---------+--------------+---------------------+-------------------------------------------------+--------------+---------+--------------------+--------------+--------------------+--------------------+-----------------+\n",
            "only showing top 20 rows\n",
            "\n"
          ]
        }
      ]
    },
    {
      "cell_type": "code",
      "source": [
        "fig, ax = plt.subplots(figsize=(10, 7))\n",
        "hdf.cols[['Electric Range', 'Model Year']].scatterplot(ax=ax)\n",
        "plt.show()"
      ],
      "metadata": {
        "colab": {
          "base_uri": "https://localhost:8080/",
          "height": 442
        },
        "id": "CH3UUp-k5Nkn",
        "outputId": "a8da9c6a-d4ec-452f-9678-20b9de7d3b30"
      },
      "execution_count": null,
      "outputs": [
        {
          "output_type": "display_data",
          "data": {
            "text/plain": [
              "<Figure size 720x504 with 1 Axes>"
            ],
            "image/png": "[encoded data removed]"
          },
          "metadata": {
            "needs_background": "light"
          }
        }
      ]
    },
    {
      "cell_type": "code",
      "source": [
        "from pyspark.sql.types import IntegerType, StringType\n",
        "data = data.withColumn(\"Model Year\", data[\"Model Year\"].cast(IntegerType()))\n",
        "data = data.withColumn(\"Electric Vehicle Type\", data[\"Electric Vehicle Type\"].cast(StringType()))"
      ],
      "metadata": {
        "id": "L0tmjMHL9ZWJ"
      },
      "execution_count": null,
      "outputs": []
    },
    {
      "cell_type": "code",
      "source": [
        "data = data.toPandas()\n",
        "data['Electric Vehicle Type'].value_counts().plot(kind='bar', xlabel='Electric Vehicle Type', ylabel='Count', rot=0)"
      ],
      "metadata": {
        "colab": {
          "base_uri": "https://localhost:8080/",
          "height": 297
        },
        "id": "PrBYbZ4zQqBm",
        "outputId": "88cfcc9d-31e3-4fc3-8257-c46e6ba542be"
      },
      "execution_count": null,
      "outputs": [
        {
          "output_type": "execute_result",
          "data": {
            "text/plain": [
              "<matplotlib.axes._subplots.AxesSubplot at 0x7f3ef587cbe0>"
            ]
          },
          "metadata": {},
          "execution_count": 22
        },
        {
          "output_type": "display_data",
          "data": {
            "text/plain": [
              "<Figure size 432x288 with 1 Axes>"
            ],
            "image/png": "[encoded data removed]"
          },
          "metadata": {
            "needs_background": "light"
          }
        }
      ]
    }
  ]
}